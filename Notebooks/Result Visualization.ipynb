{
 "cells": [
  {
   "cell_type": "code",
   "execution_count": 1,
   "id": "initial_id",
   "metadata": {
    "collapsed": true,
    "ExecuteTime": {
     "end_time": "2025-03-18T06:05:34.449428Z",
     "start_time": "2025-03-18T06:05:33.554040Z"
    }
   },
   "outputs": [],
   "source": [
    "import os\n",
    "import numpy as np\n",
    "import matplotlib.pyplot as plt\n",
    "import matplotlib.dates as mdates\n",
    "import moviepy.video.io.ImageSequenceClip\n",
    "import netCDF4 as nc4\n",
    "from matplotlib.gridspec import GridSpec\n",
    "\n",
    "import cmocean\n",
    "from datetime import datetime, timedelta\n",
    "\n",
    "from sipbuild.generator.outputs.formatters import variable"
   ]
  },
  {
   "cell_type": "markdown",
   "source": [
    "# Analyzing Result and Answering Scientific Question\n",
    "\n",
    "## Scientific question: How do seasonal monsoons in southeast Asia impact ocean stratification?"
   ],
   "metadata": {
    "collapsed": false
   },
   "id": "4459a89d980b0309"
  },
  {
   "cell_type": "markdown",
   "source": [
    "Due to the data availability and model configuration (start date is January 15th of each year), our model has data from January to November. However, the monsoon season in Southeast Asia are:\n",
    "\n",
    "- Southwest Monsoon: May to October\n",
    "- Northeast Monsoon: November to April\n",
    "\n",
    "With that being said, our data missing out 1 month of the Northeast monsoon season. So, we will use January month as the representative of Northeast Monsoon season and July as the representative of Southeast Monsoon season in our analysis."
   ],
   "metadata": {
    "collapsed": false
   },
   "id": "3b6f4fd7a3fde61c"
  },
  {
   "cell_type": "code",
   "execution_count": 3,
   "outputs": [],
   "source": [
    "# Declare constant for functions\n",
    "n_rows = 360\n",
    "n_cols = 180\n",
    "data_path = '/Volumes/T7/IceBerg/with_ice_berg/run/diags'\n",
    "years = ['1992']\n",
    "\n",
    "# Use only those files per our interests"
   ],
   "metadata": {
    "collapsed": false,
    "ExecuteTime": {
     "end_time": "2025-03-18T06:06:13.306640Z",
     "start_time": "2025-03-18T06:06:13.300640Z"
    }
   },
   "id": "b0cd8f6b9460fc6a"
  },
  {
   "cell_type": "code",
   "execution_count": 26,
   "outputs": [
    {
     "data": {
      "text/plain": "['Theta_AW',\n 'Salt_AW',\n 'Theta_surf',\n 'Salt_surf',\n 'SIarea',\n 'SIheff',\n 'SIhsnow',\n 'SIuice',\n 'SIvice',\n 'Vvel_AW',\n 'Uvel_AW',\n 'Uvel_surf',\n 'Vvel_surf',\n 'EtaN']"
     },
     "execution_count": 26,
     "metadata": {},
     "output_type": "execute_result"
    }
   ],
   "source": [
    "file_types = [file_type for file_type in os.listdir(data_path) if not file_type.startswith('._')]\n",
    "file_types"
   ],
   "metadata": {
    "collapsed": false,
    "ExecuteTime": {
     "end_time": "2025-02-24T21:55:11.049584Z",
     "start_time": "2025-02-24T21:55:11.036462Z"
    }
   },
   "id": "1a2c1760b4d0eec6"
  },
  {
   "cell_type": "markdown",
   "source": [
    "# Function to make movie"
   ],
   "metadata": {
    "collapsed": false
   },
   "id": "dee128435d23ebae"
  },
  {
   "cell_type": "markdown",
   "source": [
    "Here is the function for quick making movies (Inherent from Professor Mike Wood's Lecture 8-1)"
   ],
   "metadata": {
    "collapsed": false
   },
   "id": "b3905f348e2e0834"
  },
  {
   "cell_type": "code",
   "execution_count": 27,
   "outputs": [],
   "source": [
    "# make a list of files for each movie panel\n",
    "def extract_time(filename):\n",
    "    # Extract the date part of the filename\n",
    "    checkpoint = filename[:-4]  # Extracting the date portion\n",
    "    # Convert to datetime object\n",
    "    return int(checkpoint)\n",
    "\n",
    "def get_full_path_list(file_type):\n",
    "    frames_folder = os.path.join(file_type)\n",
    "    files = [f for f in os.listdir(frames_folder) if not f.startswith(\"._\")]\n",
    "    sorted_files = sorted(files, key=extract_time)\n",
    "    full_paths = [os.path.join(frames_folder, filename) for filename in sorted_files]\n",
    "    return full_paths\n",
    "\n",
    "def create_movie(frame_folder, fps):\n",
    "    full_paths = get_full_path_list(frame_folder)\n",
    "    # use the ImageSequenceClip module to set up the clip\n",
    "    clip = moviepy.video.io.ImageSequenceClip.ImageSequenceClip(full_paths, fps=fps)\n",
    "    \n",
    "    # write the video to a file\n",
    "    clip.write_videofile(os.path.join(frame_folder + '.mp4'), fps=fps)"
   ],
   "metadata": {
    "collapsed": false,
    "ExecuteTime": {
     "end_time": "2025-02-24T21:55:11.049774Z",
     "start_time": "2025-02-24T21:55:11.040765Z"
    }
   },
   "id": "3f07ee97661fbdc2"
  },
  {
   "cell_type": "code",
   "execution_count": 28,
   "outputs": [
    {
     "data": {
      "text/plain": "['Theta_AW',\n '._Theta_AW',\n 'Salt_AW',\n '._Salt_AW',\n 'Theta_surf',\n '._Theta_surf',\n 'Salt_surf',\n '._Salt_surf',\n 'SIarea',\n '._SIarea',\n 'SIheff',\n '._SIheff',\n 'SIhsnow',\n '._SIhsnow',\n 'SIuice',\n '._SIuice',\n 'SIvice',\n '._SIvice',\n 'Vvel_AW',\n '._Vvel_AW',\n 'Uvel_AW',\n '._Uvel_AW',\n 'Uvel_surf',\n '._Uvel_surf',\n 'Vvel_surf',\n '._Vvel_surf',\n 'EtaN',\n '._EtaN']"
     },
     "execution_count": 28,
     "metadata": {},
     "output_type": "execute_result"
    }
   ],
   "source": [
    "os.listdir(data_path)"
   ],
   "metadata": {
    "collapsed": false,
    "ExecuteTime": {
     "end_time": "2025-02-24T21:55:11.050374Z",
     "start_time": "2025-02-24T21:55:11.045112Z"
    }
   },
   "id": "155baa5c0696d50f"
  },
  {
   "cell_type": "code",
   "execution_count": 29,
   "outputs": [
    {
     "data": {
      "text/plain": "'/Volumes/T7/output/run/diags/daily_snapshot/Theta_AW'"
     },
     "execution_count": 29,
     "metadata": {},
     "output_type": "execute_result"
    }
   ],
   "source": [
    "os.path.join(data_path, file_types[0])"
   ],
   "metadata": {
    "collapsed": false,
    "ExecuteTime": {
     "end_time": "2025-02-24T21:55:11.052484Z",
     "start_time": "2025-02-24T21:55:11.049434Z"
    }
   },
   "id": "202ddc5ff93bbfe9"
  },
  {
   "cell_type": "code",
   "execution_count": 30,
   "outputs": [],
   "source": [
    "# plot_grid = np.ma.masked_where(Theta_AW == 0.0, Theta_AW)"
   ],
   "metadata": {
    "collapsed": false,
    "ExecuteTime": {
     "end_time": "2025-02-24T21:55:11.059023Z",
     "start_time": "2025-02-24T21:55:11.052045Z"
    }
   },
   "id": "8451d8d4e244148b"
  },
  {
   "cell_type": "code",
   "execution_count": 31,
   "outputs": [],
   "source": [
    "variable_metadata = {\n",
    "    \"EtaN\": {\"vmin\": -2.9, \"vmax\": 2.3, \"cmap\": \"viridis\"},\n",
    "    # \"SIarea\": {\"vmin\": 0, \"vmax\": 1, \"cmap\": \"cmo.ice\"},  # Sea ice concentration (0-1)  \n",
    "    # \"SIheff\": {\"vmin\": 0, \"vmax\": 5, \"cmap\": \"cmo.ice\"},  # Sea ice thickness (m)\n",
    "    # \"SIhsnow\": {\"vmin\": 0, \"vmax\": 2, \"cmap\": \"cmo.ice\"},  # Snow depth on sea ice (m)\n",
    "    # \"SIvice\": {\"vmin\": -0.5, \"vmax\": 0.5, \"cmap\": \"cmo.balance\"},  # Sea ice velocity\n",
    "    # \"SIuice\": {\"vmin\": -0.5, \"vmax\": 0.5, \"cmap\": \"cmo.balance\"},  # Sea ice u-component velocity\n",
    "    \"Salt_surf\": {\"vmin\": 30, \"vmax\": 40, \"cmap\": \"cmo.haline\"},  # Surface salinity (PSU)\n",
    "    \"Theta_surf\": {\"vmin\": -2, \"vmax\": 30, \"cmap\": \"cmo.thermal\"}, # Sea surface temperature (°C)\n",
    "    \"Salt_AW\": {\"vmin\": 30, \"vmax\": 40, \"cmap\": \"cmo.haline\"},  # Atlantic Water salinity (PSU)\n",
    "    \"Theta_AW\": {\"vmin\": -2, \"vmax\": 30, \"cmap\": \"cmo.thermal\"},  # Atlantic Water temperature (°C)\n",
    "}\n"
   ],
   "metadata": {
    "collapsed": false,
    "ExecuteTime": {
     "end_time": "2025-02-24T21:55:11.078500Z",
     "start_time": "2025-02-24T21:55:11.055337Z"
    }
   },
   "id": "1965c5a075cf768f"
  },
  {
   "cell_type": "code",
   "execution_count": 32,
   "outputs": [
    {
     "data": {
      "text/plain": "'/Volumes/T7/output/run/diags/daily_snapshot/EtaN/EtaN_199201.nc'"
     },
     "execution_count": 32,
     "metadata": {},
     "output_type": "execute_result"
    }
   ],
   "source": [
    "variable_list = list(variable_metadata.keys())\n",
    "for variable in variable_list:\n",
    "    variable_files = os.listdir(os.path.join(data_path, variable))\n",
    "    for i in range(len(os.listdir(variable_folder))):\n",
    "        file = os.listdir(os.path.join(data_path, file_type))[i]\n",
    "# file_path = os.path.join(data_path, file_type, file)\n",
    "# file_path"
   ],
   "metadata": {
    "collapsed": false,
    "ExecuteTime": {
     "end_time": "2025-02-24T21:55:11.087269Z",
     "start_time": "2025-02-24T21:55:11.057844Z"
    }
   },
   "id": "fcbe3b3ab9dec2e9"
  },
  {
   "cell_type": "code",
   "execution_count": 12,
   "outputs": [],
   "source": [
    "\n",
    "for day in range(31):\n",
    "    fig = plt.figure(figsize=(15, 12))\n",
    "    gs = GridSpec(2, 3, wspace=0.8, hspace=0.1,\n",
    "                  left=0.11, right=0.9, top=0.95, bottom=0.05\n",
    "                  )\n",
    "    variable_list = list(variable_metadata.keys())\n",
    "    for i in range(len(variable_metadata)):\n",
    "        file_type = variable_list[i]\n",
    "        file = os.listdir(os.path.join(data_path, file_type))[0]\n",
    "        file_path = os.path.join(data_path, file_type, file)\n",
    "        ds = nc4.Dataset(file_path)\n",
    "\n",
    "        grid = ds.variables[file_type][:, :, :]\n",
    "        plot_grid = np.ma.masked_where(grid == 0.0, grid)\n",
    "\n",
    "        ax1 = fig.add_subplot(gs[i])\n",
    "        C = plt.pcolormesh(plot_grid[day, :, :],\n",
    "                           vmin=variable_metadata[file_type]['vmin'],\n",
    "                           vmax=variable_metadata[file_type]['vmax'],\n",
    "                           cmap=variable_metadata[file_type]['cmap'])\n",
    "\n",
    "        plt.colorbar(C, label=file_type, fraction=0.026)\n",
    "    plt.savefig(os.path.join('/Users/eddie/IcebergModeling', 'Output', 'Plots', f'{day}.png'))\n",
    "    plt.close(fig)\n"
   ],
   "metadata": {
    "collapsed": false,
    "ExecuteTime": {
     "end_time": "2025-02-24T21:50:01.454631Z",
     "start_time": "2025-02-24T21:49:57.487879Z"
    }
   },
   "id": "6213ea83f5a92ed3"
  },
  {
   "cell_type": "markdown",
   "source": [
    "## Circulation Result"
   ],
   "metadata": {
    "collapsed": false
   },
   "id": "7e0a0f7694185610"
  },
  {
   "cell_type": "markdown",
   "source": [
    "Firstly, we will plot and create 2 movies to compare the velocity on the surface level for both 2015 and 2017."
   ],
   "metadata": {
    "collapsed": false
   },
   "id": "d038c7d1c1e098a1"
  },
  {
   "cell_type": "code",
   "execution_count": 43,
   "outputs": [
    {
     "name": "stdout",
     "output_type": "stream",
     "text": [
      "Moviepy - Building video /Users/eddie/IcebergModeling/Output/Plots.mp4.\n",
      "Moviepy - Writing video /Users/eddie/IcebergModeling/Output/Plots.mp4\n"
     ]
    },
    {
     "name": "stderr",
     "output_type": "stream",
     "text": [
      "                                                            \r"
     ]
    },
    {
     "name": "stdout",
     "output_type": "stream",
     "text": [
      "Moviepy - Done !\n",
      "Moviepy - video ready /Users/eddie/IcebergModeling/Output/Plots.mp4\n"
     ]
    }
   ],
   "source": [
    "create_movie('/Users/eddie/IcebergModeling/Output/Plots', 2)"
   ],
   "metadata": {
    "collapsed": false,
    "ExecuteTime": {
     "end_time": "2025-02-20T17:56:55.207325Z",
     "start_time": "2025-02-20T17:56:52.004503Z"
    }
   },
   "id": "fada3b4259f4617a"
  },
  {
   "cell_type": "code",
   "execution_count": 16,
   "outputs": [
    {
     "name": "stdout",
     "output_type": "stream",
     "text": [
      "Creating plot for 1992/01\n",
      "Creating plot for 1992/02\n",
      "Creating plot for 1992/03\n",
      "Creating plot for 1992/04\n",
      "Creating plot for 1992/05\n",
      "Creating plot for 1992/06\n",
      "Creating plot for 1992/07\n",
      "Creating plot for 1992/08\n",
      "Creating plot for 1992/09\n",
      "Creating plot for 1992/10\n",
      "Creating plot for 1992/11\n",
      "Creating plot for 1992/12\n",
      "Successfully created plots for daily_snapshot\n",
      "Moviepy - Building video /Volumes/T7/IceBerg/with_ice_berg/visualizations/video/daily_snapshot/daily_snapshot_video.mp4.\n",
      "Moviepy - Writing video /Volumes/T7/IceBerg/with_ice_berg/visualizations/video/daily_snapshot/daily_snapshot_video.mp4\n"
     ]
    },
    {
     "name": "stderr",
     "output_type": "stream",
     "text": [
      "                                                              \r"
     ]
    },
    {
     "name": "stdout",
     "output_type": "stream",
     "text": [
      "Moviepy - Done !\n",
      "Moviepy - video ready /Volumes/T7/IceBerg/with_ice_berg/visualizations/video/daily_snapshot/daily_snapshot_video.mp4\n"
     ]
    }
   ],
   "source": [
    "import video_maker as vm\n",
    "\n",
    "config = vm.MovieConfiguration('/Volumes/T7/IceBerg/with_ice_berg/run/diags', '/Volumes/T7/IceBerg/with_ice_berg/visualizations')\n",
    "config.create_plots('daily_snapshot')\n",
    "config.create_movie('daily_snapshot', 15)"
   ],
   "metadata": {
    "collapsed": false,
    "ExecuteTime": {
     "end_time": "2025-03-17T20:25:07.147938Z",
     "start_time": "2025-03-17T20:21:37.346422Z"
    }
   },
   "id": "e57b1db11cf0927f"
  },
  {
   "cell_type": "code",
   "execution_count": 1,
   "outputs": [
    {
     "name": "stdout",
     "output_type": "stream",
     "text": [
      "Creating plot for 1992/01\n"
     ]
    },
    {
     "ename": "ValueError",
     "evalue": "For X (361) and Y (51) with flat shading, A should have shape (50, 360, 3) or (50, 360, 4) or (50, 360) or (18000,), not (50, 360, 180)",
     "output_type": "error",
     "traceback": [
      "\u001B[0;31m---------------------------------------------------------------------------\u001B[0m",
      "\u001B[0;31mValueError\u001B[0m                                Traceback (most recent call last)",
      "Cell \u001B[0;32mIn[1], line 4\u001B[0m\n\u001B[1;32m      1\u001B[0m \u001B[38;5;28;01mimport\u001B[39;00m \u001B[38;5;21;01mvideo_maker\u001B[39;00m \u001B[38;5;28;01mas\u001B[39;00m \u001B[38;5;21;01mvm\u001B[39;00m\n\u001B[1;32m      3\u001B[0m config \u001B[38;5;241m=\u001B[39m vm\u001B[38;5;241m.\u001B[39mMovieConfiguration(\u001B[38;5;124m'\u001B[39m\u001B[38;5;124m/Volumes/T7/IceBerg/no_ice_berg/run/diags\u001B[39m\u001B[38;5;124m'\u001B[39m, \u001B[38;5;124m'\u001B[39m\u001B[38;5;124m/Volumes/T7/IceBerg/no_ice_berg/visualizations\u001B[39m\u001B[38;5;124m'\u001B[39m)\n\u001B[0;32m----> 4\u001B[0m config\u001B[38;5;241m.\u001B[39mcreate_plots(\u001B[38;5;124m'\u001B[39m\u001B[38;5;124mmonthly_snapshot\u001B[39m\u001B[38;5;124m'\u001B[39m)\n\u001B[1;32m      5\u001B[0m config\u001B[38;5;241m.\u001B[39mcreate_movie(\u001B[38;5;124m'\u001B[39m\u001B[38;5;124mmonthly_snapshot\u001B[39m\u001B[38;5;124m'\u001B[39m)\n",
      "File \u001B[0;32m~/IcebergModeling/Notebooks/video_maker.py:225\u001B[0m, in \u001B[0;36mMovieConfiguration.create_plots\u001B[0;34m(self, option, start_date, end_date)\u001B[0m\n\u001B[1;32m    222\u001B[0m plot_grid \u001B[38;5;241m=\u001B[39m np\u001B[38;5;241m.\u001B[39mma\u001B[38;5;241m.\u001B[39mmasked_where(grid \u001B[38;5;241m==\u001B[39m \u001B[38;5;241m0.0\u001B[39m, grid)\n\u001B[1;32m    224\u001B[0m ax1 \u001B[38;5;241m=\u001B[39m fig\u001B[38;5;241m.\u001B[39madd_subplot(gs[i])\n\u001B[0;32m--> 225\u001B[0m C \u001B[38;5;241m=\u001B[39m plt\u001B[38;5;241m.\u001B[39mpcolormesh(\n\u001B[1;32m    226\u001B[0m     plot_grid[date, :, :],\n\u001B[1;32m    227\u001B[0m     vmin\u001B[38;5;241m=\u001B[39m\u001B[38;5;28mself\u001B[39m\u001B[38;5;241m.\u001B[39mvariable_metadata[var][\u001B[38;5;124m'\u001B[39m\u001B[38;5;124mvmin\u001B[39m\u001B[38;5;124m'\u001B[39m],\n\u001B[1;32m    228\u001B[0m     vmax\u001B[38;5;241m=\u001B[39m\u001B[38;5;28mself\u001B[39m\u001B[38;5;241m.\u001B[39mvariable_metadata[var][\u001B[38;5;124m'\u001B[39m\u001B[38;5;124mvmax\u001B[39m\u001B[38;5;124m'\u001B[39m],\n\u001B[1;32m    229\u001B[0m     cmap\u001B[38;5;241m=\u001B[39m\u001B[38;5;28mself\u001B[39m\u001B[38;5;241m.\u001B[39mvariable_metadata[var][\u001B[38;5;124m'\u001B[39m\u001B[38;5;124mcmap\u001B[39m\u001B[38;5;124m'\u001B[39m])\n\u001B[1;32m    231\u001B[0m plt\u001B[38;5;241m.\u001B[39mcolorbar(C, orientation\u001B[38;5;241m=\u001B[39m\u001B[38;5;124m'\u001B[39m\u001B[38;5;124mvertical\u001B[39m\u001B[38;5;124m'\u001B[39m,\n\u001B[1;32m    232\u001B[0m              label\u001B[38;5;241m=\u001B[39m\u001B[38;5;124mf\u001B[39m\u001B[38;5;124m\"\u001B[39m\u001B[38;5;132;01m{\u001B[39;00mvar\u001B[38;5;132;01m}\u001B[39;00m\u001B[38;5;124m \u001B[39m\u001B[38;5;130;01m\\n\u001B[39;00m\u001B[38;5;124m (\u001B[39m\u001B[38;5;132;01m{\u001B[39;00m\u001B[38;5;28mself\u001B[39m\u001B[38;5;241m.\u001B[39mvariable_metadata[var][\u001B[38;5;124m'\u001B[39m\u001B[38;5;124munit\u001B[39m\u001B[38;5;124m'\u001B[39m]\u001B[38;5;132;01m}\u001B[39;00m\u001B[38;5;124m)\u001B[39m\u001B[38;5;124m\"\u001B[39m)\n\u001B[1;32m    233\u001B[0m ds\u001B[38;5;241m.\u001B[39mclose()\n",
      "File \u001B[0;32m~/miniconda3/envs/cs185c/lib/python3.11/site-packages/matplotlib/pyplot.py:3697\u001B[0m, in \u001B[0;36mpcolormesh\u001B[0;34m(alpha, norm, cmap, vmin, vmax, shading, antialiased, data, *args, **kwargs)\u001B[0m\n\u001B[1;32m   3684\u001B[0m \u001B[38;5;129m@_copy_docstring_and_deprecators\u001B[39m(Axes\u001B[38;5;241m.\u001B[39mpcolormesh)\n\u001B[1;32m   3685\u001B[0m \u001B[38;5;28;01mdef\u001B[39;00m \u001B[38;5;21mpcolormesh\u001B[39m(\n\u001B[1;32m   3686\u001B[0m     \u001B[38;5;241m*\u001B[39margs: ArrayLike,\n\u001B[0;32m   (...)\u001B[0m\n\u001B[1;32m   3695\u001B[0m     \u001B[38;5;241m*\u001B[39m\u001B[38;5;241m*\u001B[39mkwargs,\n\u001B[1;32m   3696\u001B[0m ) \u001B[38;5;241m-\u001B[39m\u001B[38;5;241m>\u001B[39m QuadMesh:\n\u001B[0;32m-> 3697\u001B[0m     __ret \u001B[38;5;241m=\u001B[39m gca()\u001B[38;5;241m.\u001B[39mpcolormesh(\n\u001B[1;32m   3698\u001B[0m         \u001B[38;5;241m*\u001B[39margs,\n\u001B[1;32m   3699\u001B[0m         alpha\u001B[38;5;241m=\u001B[39malpha,\n\u001B[1;32m   3700\u001B[0m         norm\u001B[38;5;241m=\u001B[39mnorm,\n\u001B[1;32m   3701\u001B[0m         cmap\u001B[38;5;241m=\u001B[39mcmap,\n\u001B[1;32m   3702\u001B[0m         vmin\u001B[38;5;241m=\u001B[39mvmin,\n\u001B[1;32m   3703\u001B[0m         vmax\u001B[38;5;241m=\u001B[39mvmax,\n\u001B[1;32m   3704\u001B[0m         shading\u001B[38;5;241m=\u001B[39mshading,\n\u001B[1;32m   3705\u001B[0m         antialiased\u001B[38;5;241m=\u001B[39mantialiased,\n\u001B[1;32m   3706\u001B[0m         \u001B[38;5;241m*\u001B[39m\u001B[38;5;241m*\u001B[39m({\u001B[38;5;124m\"\u001B[39m\u001B[38;5;124mdata\u001B[39m\u001B[38;5;124m\"\u001B[39m: data} \u001B[38;5;28;01mif\u001B[39;00m data \u001B[38;5;129;01mis\u001B[39;00m \u001B[38;5;129;01mnot\u001B[39;00m \u001B[38;5;28;01mNone\u001B[39;00m \u001B[38;5;28;01melse\u001B[39;00m {}),\n\u001B[1;32m   3707\u001B[0m         \u001B[38;5;241m*\u001B[39m\u001B[38;5;241m*\u001B[39mkwargs,\n\u001B[1;32m   3708\u001B[0m     )\n\u001B[1;32m   3709\u001B[0m     sci(__ret)\n\u001B[1;32m   3710\u001B[0m     \u001B[38;5;28;01mreturn\u001B[39;00m __ret\n",
      "File \u001B[0;32m~/miniconda3/envs/cs185c/lib/python3.11/site-packages/matplotlib/__init__.py:1473\u001B[0m, in \u001B[0;36m_preprocess_data.<locals>.inner\u001B[0;34m(ax, data, *args, **kwargs)\u001B[0m\n\u001B[1;32m   1470\u001B[0m \u001B[38;5;129m@functools\u001B[39m\u001B[38;5;241m.\u001B[39mwraps(func)\n\u001B[1;32m   1471\u001B[0m \u001B[38;5;28;01mdef\u001B[39;00m \u001B[38;5;21minner\u001B[39m(ax, \u001B[38;5;241m*\u001B[39margs, data\u001B[38;5;241m=\u001B[39m\u001B[38;5;28;01mNone\u001B[39;00m, \u001B[38;5;241m*\u001B[39m\u001B[38;5;241m*\u001B[39mkwargs):\n\u001B[1;32m   1472\u001B[0m     \u001B[38;5;28;01mif\u001B[39;00m data \u001B[38;5;129;01mis\u001B[39;00m \u001B[38;5;28;01mNone\u001B[39;00m:\n\u001B[0;32m-> 1473\u001B[0m         \u001B[38;5;28;01mreturn\u001B[39;00m func(\n\u001B[1;32m   1474\u001B[0m             ax,\n\u001B[1;32m   1475\u001B[0m             \u001B[38;5;241m*\u001B[39m\u001B[38;5;28mmap\u001B[39m(sanitize_sequence, args),\n\u001B[1;32m   1476\u001B[0m             \u001B[38;5;241m*\u001B[39m\u001B[38;5;241m*\u001B[39m{k: sanitize_sequence(v) \u001B[38;5;28;01mfor\u001B[39;00m k, v \u001B[38;5;129;01min\u001B[39;00m kwargs\u001B[38;5;241m.\u001B[39mitems()})\n\u001B[1;32m   1478\u001B[0m     bound \u001B[38;5;241m=\u001B[39m new_sig\u001B[38;5;241m.\u001B[39mbind(ax, \u001B[38;5;241m*\u001B[39margs, \u001B[38;5;241m*\u001B[39m\u001B[38;5;241m*\u001B[39mkwargs)\n\u001B[1;32m   1479\u001B[0m     auto_label \u001B[38;5;241m=\u001B[39m (bound\u001B[38;5;241m.\u001B[39marguments\u001B[38;5;241m.\u001B[39mget(label_namer)\n\u001B[1;32m   1480\u001B[0m                   \u001B[38;5;129;01mor\u001B[39;00m bound\u001B[38;5;241m.\u001B[39mkwargs\u001B[38;5;241m.\u001B[39mget(label_namer))\n",
      "File \u001B[0;32m~/miniconda3/envs/cs185c/lib/python3.11/site-packages/matplotlib/axes/_axes.py:6434\u001B[0m, in \u001B[0;36mAxes.pcolormesh\u001B[0;34m(self, alpha, norm, cmap, vmin, vmax, shading, antialiased, *args, **kwargs)\u001B[0m\n\u001B[1;32m   6430\u001B[0m coords \u001B[38;5;241m=\u001B[39m np\u001B[38;5;241m.\u001B[39mstack([X, Y], axis\u001B[38;5;241m=\u001B[39m\u001B[38;5;241m-\u001B[39m\u001B[38;5;241m1\u001B[39m)\n\u001B[1;32m   6432\u001B[0m kwargs\u001B[38;5;241m.\u001B[39msetdefault(\u001B[38;5;124m'\u001B[39m\u001B[38;5;124msnap\u001B[39m\u001B[38;5;124m'\u001B[39m, mpl\u001B[38;5;241m.\u001B[39mrcParams[\u001B[38;5;124m'\u001B[39m\u001B[38;5;124mpcolormesh.snap\u001B[39m\u001B[38;5;124m'\u001B[39m])\n\u001B[0;32m-> 6434\u001B[0m collection \u001B[38;5;241m=\u001B[39m mcoll\u001B[38;5;241m.\u001B[39mQuadMesh(\n\u001B[1;32m   6435\u001B[0m     coords, antialiased\u001B[38;5;241m=\u001B[39mantialiased, shading\u001B[38;5;241m=\u001B[39mshading,\n\u001B[1;32m   6436\u001B[0m     array\u001B[38;5;241m=\u001B[39mC, cmap\u001B[38;5;241m=\u001B[39mcmap, norm\u001B[38;5;241m=\u001B[39mnorm, alpha\u001B[38;5;241m=\u001B[39malpha, \u001B[38;5;241m*\u001B[39m\u001B[38;5;241m*\u001B[39mkwargs)\n\u001B[1;32m   6437\u001B[0m collection\u001B[38;5;241m.\u001B[39m_scale_norm(norm, vmin, vmax)\n\u001B[1;32m   6439\u001B[0m coords \u001B[38;5;241m=\u001B[39m coords\u001B[38;5;241m.\u001B[39mreshape(\u001B[38;5;241m-\u001B[39m\u001B[38;5;241m1\u001B[39m, \u001B[38;5;241m2\u001B[39m)  \u001B[38;5;66;03m# flatten the grid structure; keep x, y\u001B[39;00m\n",
      "File \u001B[0;32m~/miniconda3/envs/cs185c/lib/python3.11/site-packages/matplotlib/collections.py:2146\u001B[0m, in \u001B[0;36mQuadMesh.__init__\u001B[0;34m(self, coordinates, antialiased, shading, **kwargs)\u001B[0m\n\u001B[1;32m   2144\u001B[0m kwargs\u001B[38;5;241m.\u001B[39msetdefault(\u001B[38;5;124m\"\u001B[39m\u001B[38;5;124mpickradius\u001B[39m\u001B[38;5;124m\"\u001B[39m, \u001B[38;5;241m0\u001B[39m)\n\u001B[1;32m   2145\u001B[0m \u001B[38;5;28msuper\u001B[39m()\u001B[38;5;241m.\u001B[39m\u001B[38;5;21m__init__\u001B[39m(coordinates\u001B[38;5;241m=\u001B[39mcoordinates, shading\u001B[38;5;241m=\u001B[39mshading)\n\u001B[0;32m-> 2146\u001B[0m Collection\u001B[38;5;241m.\u001B[39m\u001B[38;5;21m__init__\u001B[39m(\u001B[38;5;28mself\u001B[39m, \u001B[38;5;241m*\u001B[39m\u001B[38;5;241m*\u001B[39mkwargs)\n\u001B[1;32m   2148\u001B[0m \u001B[38;5;28mself\u001B[39m\u001B[38;5;241m.\u001B[39m_antialiased \u001B[38;5;241m=\u001B[39m antialiased\n\u001B[1;32m   2149\u001B[0m \u001B[38;5;28mself\u001B[39m\u001B[38;5;241m.\u001B[39m_bbox \u001B[38;5;241m=\u001B[39m transforms\u001B[38;5;241m.\u001B[39mBbox\u001B[38;5;241m.\u001B[39munit()\n",
      "File \u001B[0;32m~/miniconda3/envs/cs185c/lib/python3.11/site-packages/matplotlib/collections.py:206\u001B[0m, in \u001B[0;36mCollection.__init__\u001B[0;34m(self, edgecolors, facecolors, linewidths, linestyles, capstyle, joinstyle, antialiaseds, offsets, offset_transform, norm, cmap, pickradius, hatch, urls, zorder, **kwargs)\u001B[0m\n\u001B[1;32m    203\u001B[0m \u001B[38;5;28mself\u001B[39m\u001B[38;5;241m.\u001B[39m_offset_transform \u001B[38;5;241m=\u001B[39m offset_transform\n\u001B[1;32m    205\u001B[0m \u001B[38;5;28mself\u001B[39m\u001B[38;5;241m.\u001B[39m_path_effects \u001B[38;5;241m=\u001B[39m \u001B[38;5;28;01mNone\u001B[39;00m\n\u001B[0;32m--> 206\u001B[0m \u001B[38;5;28mself\u001B[39m\u001B[38;5;241m.\u001B[39m_internal_update(kwargs)\n\u001B[1;32m    207\u001B[0m \u001B[38;5;28mself\u001B[39m\u001B[38;5;241m.\u001B[39m_paths \u001B[38;5;241m=\u001B[39m \u001B[38;5;28;01mNone\u001B[39;00m\n",
      "File \u001B[0;32m~/miniconda3/envs/cs185c/lib/python3.11/site-packages/matplotlib/artist.py:1216\u001B[0m, in \u001B[0;36mArtist._internal_update\u001B[0;34m(self, kwargs)\u001B[0m\n\u001B[1;32m   1209\u001B[0m \u001B[38;5;28;01mdef\u001B[39;00m \u001B[38;5;21m_internal_update\u001B[39m(\u001B[38;5;28mself\u001B[39m, kwargs):\n\u001B[1;32m   1210\u001B[0m \u001B[38;5;250m    \u001B[39m\u001B[38;5;124;03m\"\"\"\u001B[39;00m\n\u001B[1;32m   1211\u001B[0m \u001B[38;5;124;03m    Update artist properties without prenormalizing them, but generating\u001B[39;00m\n\u001B[1;32m   1212\u001B[0m \u001B[38;5;124;03m    errors as if calling `set`.\u001B[39;00m\n\u001B[1;32m   1213\u001B[0m \n\u001B[1;32m   1214\u001B[0m \u001B[38;5;124;03m    The lack of prenormalization is to maintain backcompatibility.\u001B[39;00m\n\u001B[1;32m   1215\u001B[0m \u001B[38;5;124;03m    \"\"\"\u001B[39;00m\n\u001B[0;32m-> 1216\u001B[0m     \u001B[38;5;28;01mreturn\u001B[39;00m \u001B[38;5;28mself\u001B[39m\u001B[38;5;241m.\u001B[39m_update_props(\n\u001B[1;32m   1217\u001B[0m         kwargs, \u001B[38;5;124m\"\u001B[39m\u001B[38;5;132;01m{cls.__name__}\u001B[39;00m\u001B[38;5;124m.set() got an unexpected keyword argument \u001B[39m\u001B[38;5;124m\"\u001B[39m\n\u001B[1;32m   1218\u001B[0m         \u001B[38;5;124m\"\u001B[39m\u001B[38;5;132;01m{prop_name!r}\u001B[39;00m\u001B[38;5;124m\"\u001B[39m)\n",
      "File \u001B[0;32m~/miniconda3/envs/cs185c/lib/python3.11/site-packages/matplotlib/artist.py:1192\u001B[0m, in \u001B[0;36mArtist._update_props\u001B[0;34m(self, props, errfmt)\u001B[0m\n\u001B[1;32m   1189\u001B[0m             \u001B[38;5;28;01mif\u001B[39;00m \u001B[38;5;129;01mnot\u001B[39;00m \u001B[38;5;28mcallable\u001B[39m(func):\n\u001B[1;32m   1190\u001B[0m                 \u001B[38;5;28;01mraise\u001B[39;00m \u001B[38;5;167;01mAttributeError\u001B[39;00m(\n\u001B[1;32m   1191\u001B[0m                     errfmt\u001B[38;5;241m.\u001B[39mformat(\u001B[38;5;28mcls\u001B[39m\u001B[38;5;241m=\u001B[39m\u001B[38;5;28mtype\u001B[39m(\u001B[38;5;28mself\u001B[39m), prop_name\u001B[38;5;241m=\u001B[39mk))\n\u001B[0;32m-> 1192\u001B[0m             ret\u001B[38;5;241m.\u001B[39mappend(func(v))\n\u001B[1;32m   1193\u001B[0m \u001B[38;5;28;01mif\u001B[39;00m ret:\n\u001B[1;32m   1194\u001B[0m     \u001B[38;5;28mself\u001B[39m\u001B[38;5;241m.\u001B[39mpchanged()\n",
      "File \u001B[0;32m~/miniconda3/envs/cs185c/lib/python3.11/site-packages/matplotlib/collections.py:2016\u001B[0m, in \u001B[0;36m_MeshData.set_array\u001B[0;34m(self, A)\u001B[0m\n\u001B[1;32m   2014\u001B[0m     shape \u001B[38;5;241m=\u001B[39m np\u001B[38;5;241m.\u001B[39mshape(A)\n\u001B[1;32m   2015\u001B[0m     \u001B[38;5;28;01mif\u001B[39;00m shape \u001B[38;5;129;01mnot\u001B[39;00m \u001B[38;5;129;01min\u001B[39;00m ok_shapes:\n\u001B[0;32m-> 2016\u001B[0m         \u001B[38;5;28;01mraise\u001B[39;00m \u001B[38;5;167;01mValueError\u001B[39;00m(\n\u001B[1;32m   2017\u001B[0m             \u001B[38;5;124mf\u001B[39m\u001B[38;5;124m\"\u001B[39m\u001B[38;5;124mFor X (\u001B[39m\u001B[38;5;132;01m{\u001B[39;00mwidth\u001B[38;5;132;01m}\u001B[39;00m\u001B[38;5;124m) and Y (\u001B[39m\u001B[38;5;132;01m{\u001B[39;00mheight\u001B[38;5;132;01m}\u001B[39;00m\u001B[38;5;124m) with \u001B[39m\u001B[38;5;132;01m{\u001B[39;00m\u001B[38;5;28mself\u001B[39m\u001B[38;5;241m.\u001B[39m_shading\u001B[38;5;132;01m}\u001B[39;00m\u001B[38;5;124m \u001B[39m\u001B[38;5;124m\"\u001B[39m\n\u001B[1;32m   2018\u001B[0m             \u001B[38;5;124mf\u001B[39m\u001B[38;5;124m\"\u001B[39m\u001B[38;5;124mshading, A should have shape \u001B[39m\u001B[38;5;124m\"\u001B[39m\n\u001B[1;32m   2019\u001B[0m             \u001B[38;5;124mf\u001B[39m\u001B[38;5;124m\"\u001B[39m\u001B[38;5;132;01m{\u001B[39;00m\u001B[38;5;124m'\u001B[39m\u001B[38;5;124m or \u001B[39m\u001B[38;5;124m'\u001B[39m\u001B[38;5;241m.\u001B[39mjoin(\u001B[38;5;28mmap\u001B[39m(\u001B[38;5;28mstr\u001B[39m,\u001B[38;5;250m \u001B[39mok_shapes))\u001B[38;5;132;01m}\u001B[39;00m\u001B[38;5;124m, not \u001B[39m\u001B[38;5;132;01m{\u001B[39;00mA\u001B[38;5;241m.\u001B[39mshape\u001B[38;5;132;01m}\u001B[39;00m\u001B[38;5;124m\"\u001B[39m)\n\u001B[1;32m   2020\u001B[0m \u001B[38;5;28;01mreturn\u001B[39;00m \u001B[38;5;28msuper\u001B[39m()\u001B[38;5;241m.\u001B[39mset_array(A)\n",
      "\u001B[0;31mValueError\u001B[0m: For X (361) and Y (51) with flat shading, A should have shape (50, 360, 3) or (50, 360, 4) or (50, 360) or (18000,), not (50, 360, 180)"
     ]
    },
    {
     "data": {
      "text/plain": "<Figure size 1500x1200 with 3 Axes>",
      "image/png": "[encoded data removed]"
     },
     "metadata": {},
     "output_type": "display_data"
    }
   ],
   "source": [
    "import video_maker as vm\n",
    "\n",
    "config = vm.MovieConfiguration('/Volumes/T7/IceBerg/no_ice_berg/run/diags', '/Volumes/T7/IceBerg/no_ice_berg/visualizations')\n",
    "config.create_plots('monthly_snapshot')\n",
    "config.create_movie('monthly_snapshot')\n",
    "\n"
   ],
   "metadata": {
    "collapsed": false,
    "ExecuteTime": {
     "end_time": "2025-03-12T19:47:55.652351Z",
     "start_time": "2025-03-12T19:47:53.125060Z"
    }
   },
   "id": "45a174302c69076b"
  },
  {
   "cell_type": "code",
   "execution_count": 5,
   "outputs": [
    {
     "name": "stdout",
     "output_type": "stream",
     "text": [
      "/Volumes/T7/IceBerg/with_ice_berg/run/diags/iceberg/iceberg.0000002880.bin\n",
      "(80, 15)\n"
     ]
    },
    {
     "data": {
      "text/plain": "[<matplotlib.lines.Line2D at 0x1630e0fd0>]"
     },
     "execution_count": 5,
     "metadata": {},
     "output_type": "execute_result"
    },
    {
     "data": {
      "text/plain": "<Figure size 1500x1200 with 1 Axes>",
      "image/png": "[encoded data removed]"
     },
     "metadata": {},
     "output_type": "display_data"
    }
   ],
   "source": [
    "file_type = 'iceberg'\n",
    "file = os.listdir(os.path.join(data_path, file_type))[-1]\n",
    "file_path = os.path.join(data_path, file_type, file)\n",
    "fig = plt.figure(figsize=(15, 12))\n",
    "gs = GridSpec(2, 3, wspace=0.8, hspace=0.1,\n",
    "              left=0.11, right=0.9, top=0.95, bottom=0.05\n",
    "              )\n",
    "# file_path\n",
    "ds = np.fromfile(file_path, '>f8').reshape((15, 15000)).T\n",
    "ds = ds[ds[:,0] != 0,:]\n",
    "print(file_path)\n",
    "print(ds.shape)\n",
    "input_dir = '/Users/eddie/IcebergModeling/Input'\n",
    "n_rows = 360\n",
    "n_cols = 180\n",
    "\n",
    "model_grid = np.fromfile(os.path.join(input_dir,'greenland.mitgrid'),'>f8').reshape((16, n_rows+1, n_cols+1))\n",
    "# recreate the grids that will be used in the model\n",
    "XC = model_grid[0,:-1,:-1]\n",
    "YC = model_grid[1,:-1,:-1]\n",
    "bathy = np.fromfile(os.path.join(input_dir,'greenland_bathymetry.bin'),'>f4').reshape(np.shape(XC))\n",
    "\n",
    "# plt.pcolormesh(bathy)\n",
    "# plt.scatter(ds[:,2], ds[:,3])\n",
    "\n",
    "plt.plot(ds[:,6])\n",
    "# grid = ds.variables[file_type][:, :, :]\n",
    "# plot_grid = np.ma.masked_where(grid == 0.0, grid)\n",
    "\n",
    "# ax1 = fig.add_subplot(gs[0])\n",
    "# C = plt.pcolormesh(ds[0, :, :],\n",
    "#                    vmin=variable_metadata[file_type]['vmin'],\n",
    "#                    vmax=variable_metadata[file_type]['vmax'],\n",
    "#                    cmap=variable_metadata[file_type]['cmap'])\n",
    "# \n",
    "# plt.colorbar(C, label=file_type, fraction=0.026)"
   ],
   "metadata": {
    "collapsed": false,
    "ExecuteTime": {
     "end_time": "2025-03-18T06:06:45.533183Z",
     "start_time": "2025-03-18T06:06:45.428091Z"
    }
   },
   "id": "7ca8d3cc85edb56b"
  },
  {
   "cell_type": "code",
   "execution_count": 39,
   "outputs": [
    {
     "name": "stdout",
     "output_type": "stream",
     "text": [
      "                  Width      Length   Thickness\n",
      "Time                                           \n",
      "86400.0      206.617524  215.617524  224.617524\n",
      "172800.0     205.269136  214.269136  223.269136\n",
      "259200.0     204.440113  213.440113  222.440113\n",
      "345600.0     203.638652  212.638652  221.638652\n",
      "432000.0     203.320656  212.320656  221.320656\n",
      "...                 ...         ...         ...\n",
      "157334400.0  110.716552  113.716552  116.716552\n",
      "157420800.0  111.695959  114.695959  117.695959\n",
      "157507200.0  112.018372  115.018372  118.018372\n",
      "157593600.0  112.499378  115.499378  118.499378\n",
      "157680000.0  109.952617  112.952617  115.952617\n",
      "\n",
      "[1824 rows x 3 columns]\n"
     ]
    }
   ],
   "source": [
    "import pandas as pd\n",
    "data = np.fromfile(os.path.join('/Users/eddie/IcebergModeling/Notebooks/calving_schedule_003'), '>f8').astype('<f8')\n",
    "\n",
    "ncols = 4\n",
    "schedule_length = int(len(data) / ncols)\n",
    "\n",
    "data = data.reshape((ncols, schedule_length)).T # mean thickness 100 m, time is in seconds relative to model start time (in data.cal)\n",
    "non_zero = data[~np.any(data == 0, axis=1)]\n",
    "df_original = pd.DataFrame(data, columns=['Time', 'Width', 'Length', 'Thickness'])\n",
    "df_non_zero = pd.DataFrame(non_zero, columns=['Time', 'Width', 'Length', 'Thickness'])\n",
    "df_non_zero['Time'] = df_non_zero['Time']\n",
    "df_non_zero.set_index('Time', inplace=True)\n",
    "print(df_non_zero)\n",
    "# df_non_zero"
   ],
   "metadata": {
    "collapsed": false,
    "ExecuteTime": {
     "end_time": "2025-03-17T21:33:53.143273Z",
     "start_time": "2025-03-17T21:33:53.132700Z"
    }
   },
   "id": "7ad73bc6ee79525c"
  },
  {
   "cell_type": "code",
   "execution_count": null,
   "outputs": [],
   "source": [],
   "metadata": {
    "collapsed": false
   },
   "id": "9c6047adc5da6508"
  }
 ],
 "metadata": {
  "kernelspec": {
   "name": "cs185c",
   "language": "python",
   "display_name": "CS 185C Environment"
  },
  "language_info": {
   "codemirror_mode": {
    "name": "ipython",
    "version": 2
   },
   "file_extension": ".py",
   "mimetype": "text/x-python",
   "name": "python",
   "nbconvert_exporter": "python",
   "pygments_lexer": "ipython2",
   "version": "2.7.6"
  }
 },
 "nbformat": 4,
 "nbformat_minor": 5
}
