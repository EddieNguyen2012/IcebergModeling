{
 "cells": [
  {
   "cell_type": "code",
   "execution_count": 24,
   "id": "initial_id",
   "metadata": {
    "collapsed": true,
    "ExecuteTime": {
     "end_time": "2025-02-24T21:55:11.048814Z",
     "start_time": "2025-02-24T21:55:11.030454Z"
    }
   },
   "outputs": [],
   "source": [
    "import os\n",
    "import numpy as np\n",
    "import matplotlib.pyplot as plt\n",
    "import matplotlib.dates as mdates\n",
    "import moviepy.video.io.ImageSequenceClip\n",
    "import netCDF4 as nc4\n",
    "import cmocean\n",
    "from datetime import datetime, timedelta\n",
    "\n",
    "from sipbuild.generator.outputs.formatters import variable"
   ]
  },
  {
   "cell_type": "markdown",
   "source": [
    "# Analyzing Result and Answering Scientific Question\n",
    "\n",
    "## Scientific question: How do seasonal monsoons in southeast Asia impact ocean stratification?"
   ],
   "metadata": {
    "collapsed": false
   },
   "id": "4459a89d980b0309"
  },
  {
   "cell_type": "markdown",
   "source": [
    "Due to the data availability and model configuration (start date is January 15th of each year), our model has data from January to November. However, the monsoon season in Southeast Asia are:\n",
    "\n",
    "- Southwest Monsoon: May to October\n",
    "- Northeast Monsoon: November to April\n",
    "\n",
    "With that being said, our data missing out 1 month of the Northeast monsoon season. So, we will use January month as the representative of Northeast Monsoon season and July as the representative of Southeast Monsoon season in our analysis."
   ],
   "metadata": {
    "collapsed": false
   },
   "id": "3b6f4fd7a3fde61c"
  },
  {
   "cell_type": "code",
   "execution_count": 25,
   "outputs": [],
   "source": [
    "# Declare constant for functions\n",
    "n_rows = 360\n",
    "n_cols = 180\n",
    "data_path = '/Volumes/T7/output/run/diags/daily_snapshot'\n",
    "years = ['1992']\n",
    "\n",
    "# Use only those files per our interests"
   ],
   "metadata": {
    "collapsed": false,
    "ExecuteTime": {
     "end_time": "2025-02-24T21:55:11.049222Z",
     "start_time": "2025-02-24T21:55:11.034572Z"
    }
   },
   "id": "b0cd8f6b9460fc6a"
  },
  {
   "cell_type": "code",
   "execution_count": 26,
   "outputs": [
    {
     "data": {
      "text/plain": "['Theta_AW',\n 'Salt_AW',\n 'Theta_surf',\n 'Salt_surf',\n 'SIarea',\n 'SIheff',\n 'SIhsnow',\n 'SIuice',\n 'SIvice',\n 'Vvel_AW',\n 'Uvel_AW',\n 'Uvel_surf',\n 'Vvel_surf',\n 'EtaN']"
     },
     "execution_count": 26,
     "metadata": {},
     "output_type": "execute_result"
    }
   ],
   "source": [
    "file_types = [file_type for file_type in os.listdir(data_path) if not file_type.startswith('._')]\n",
    "file_types"
   ],
   "metadata": {
    "collapsed": false,
    "ExecuteTime": {
     "end_time": "2025-02-24T21:55:11.049584Z",
     "start_time": "2025-02-24T21:55:11.036462Z"
    }
   },
   "id": "1a2c1760b4d0eec6"
  },
  {
   "cell_type": "markdown",
   "source": [
    "# Function to make movie"
   ],
   "metadata": {
    "collapsed": false
   },
   "id": "dee128435d23ebae"
  },
  {
   "cell_type": "markdown",
   "source": [
    "Here is the function for quick making movies (Inherent from Professor Mike Wood's Lecture 8-1)"
   ],
   "metadata": {
    "collapsed": false
   },
   "id": "b3905f348e2e0834"
  },
  {
   "cell_type": "code",
   "execution_count": 27,
   "outputs": [],
   "source": [
    "# make a list of files for each movie panel\n",
    "def extract_time(filename):\n",
    "    # Extract the date part of the filename\n",
    "    checkpoint = filename[:-4]  # Extracting the date portion\n",
    "    # Convert to datetime object\n",
    "    return int(checkpoint)\n",
    "\n",
    "def get_full_path_list(file_type):\n",
    "    frames_folder = os.path.join(file_type)\n",
    "    files = [f for f in os.listdir(frames_folder) if not f.startswith(\"._\")]\n",
    "    sorted_files = sorted(files, key=extract_time)\n",
    "    full_paths = [os.path.join(frames_folder, filename) for filename in sorted_files]\n",
    "    return full_paths\n",
    "\n",
    "def create_movie(frame_folder, fps):\n",
    "    full_paths = get_full_path_list(frame_folder)\n",
    "    # use the ImageSequenceClip module to set up the clip\n",
    "    clip = moviepy.video.io.ImageSequenceClip.ImageSequenceClip(full_paths, fps=fps)\n",
    "    \n",
    "    # write the video to a file\n",
    "    clip.write_videofile(os.path.join(frame_folder + '.mp4'), fps=fps)"
   ],
   "metadata": {
    "collapsed": false,
    "ExecuteTime": {
     "end_time": "2025-02-24T21:55:11.049774Z",
     "start_time": "2025-02-24T21:55:11.040765Z"
    }
   },
   "id": "3f07ee97661fbdc2"
  },
  {
   "cell_type": "code",
   "execution_count": 28,
   "outputs": [
    {
     "data": {
      "text/plain": "['Theta_AW',\n '._Theta_AW',\n 'Salt_AW',\n '._Salt_AW',\n 'Theta_surf',\n '._Theta_surf',\n 'Salt_surf',\n '._Salt_surf',\n 'SIarea',\n '._SIarea',\n 'SIheff',\n '._SIheff',\n 'SIhsnow',\n '._SIhsnow',\n 'SIuice',\n '._SIuice',\n 'SIvice',\n '._SIvice',\n 'Vvel_AW',\n '._Vvel_AW',\n 'Uvel_AW',\n '._Uvel_AW',\n 'Uvel_surf',\n '._Uvel_surf',\n 'Vvel_surf',\n '._Vvel_surf',\n 'EtaN',\n '._EtaN']"
     },
     "execution_count": 28,
     "metadata": {},
     "output_type": "execute_result"
    }
   ],
   "source": [
    "os.listdir(data_path)"
   ],
   "metadata": {
    "collapsed": false,
    "ExecuteTime": {
     "end_time": "2025-02-24T21:55:11.050374Z",
     "start_time": "2025-02-24T21:55:11.045112Z"
    }
   },
   "id": "155baa5c0696d50f"
  },
  {
   "cell_type": "code",
   "execution_count": 29,
   "outputs": [
    {
     "data": {
      "text/plain": "'/Volumes/T7/output/run/diags/daily_snapshot/Theta_AW'"
     },
     "execution_count": 29,
     "metadata": {},
     "output_type": "execute_result"
    }
   ],
   "source": [
    "os.path.join(data_path, file_types[0])"
   ],
   "metadata": {
    "collapsed": false,
    "ExecuteTime": {
     "end_time": "2025-02-24T21:55:11.052484Z",
     "start_time": "2025-02-24T21:55:11.049434Z"
    }
   },
   "id": "202ddc5ff93bbfe9"
  },
  {
   "cell_type": "code",
   "execution_count": 30,
   "outputs": [],
   "source": [
    "# plot_grid = np.ma.masked_where(Theta_AW == 0.0, Theta_AW)"
   ],
   "metadata": {
    "collapsed": false,
    "ExecuteTime": {
     "end_time": "2025-02-24T21:55:11.059023Z",
     "start_time": "2025-02-24T21:55:11.052045Z"
    }
   },
   "id": "8451d8d4e244148b"
  },
  {
   "cell_type": "code",
   "execution_count": 31,
   "outputs": [],
   "source": [
    "variable_metadata = {\n",
    "    \"EtaN\": {\"vmin\": -2.9, \"vmax\": 2.3, \"cmap\": \"viridis\"},\n",
    "    # \"SIarea\": {\"vmin\": 0, \"vmax\": 1, \"cmap\": \"cmo.ice\"},  # Sea ice concentration (0-1)  \n",
    "    # \"SIheff\": {\"vmin\": 0, \"vmax\": 5, \"cmap\": \"cmo.ice\"},  # Sea ice thickness (m)\n",
    "    # \"SIhsnow\": {\"vmin\": 0, \"vmax\": 2, \"cmap\": \"cmo.ice\"},  # Snow depth on sea ice (m)\n",
    "    # \"SIvice\": {\"vmin\": -0.5, \"vmax\": 0.5, \"cmap\": \"cmo.balance\"},  # Sea ice velocity\n",
    "    # \"SIuice\": {\"vmin\": -0.5, \"vmax\": 0.5, \"cmap\": \"cmo.balance\"},  # Sea ice u-component velocity\n",
    "    \"Salt_surf\": {\"vmin\": 30, \"vmax\": 40, \"cmap\": \"cmo.haline\"},  # Surface salinity (PSU)\n",
    "    \"Theta_surf\": {\"vmin\": -2, \"vmax\": 30, \"cmap\": \"cmo.thermal\"}, # Sea surface temperature (°C)\n",
    "    \"Salt_AW\": {\"vmin\": 30, \"vmax\": 40, \"cmap\": \"cmo.haline\"},  # Atlantic Water salinity (PSU)\n",
    "    \"Theta_AW\": {\"vmin\": -2, \"vmax\": 30, \"cmap\": \"cmo.thermal\"},  # Atlantic Water temperature (°C)\n",
    "}\n"
   ],
   "metadata": {
    "collapsed": false,
    "ExecuteTime": {
     "end_time": "2025-02-24T21:55:11.078500Z",
     "start_time": "2025-02-24T21:55:11.055337Z"
    }
   },
   "id": "1965c5a075cf768f"
  },
  {
   "cell_type": "code",
   "execution_count": 32,
   "outputs": [
    {
     "data": {
      "text/plain": "'/Volumes/T7/output/run/diags/daily_snapshot/EtaN/EtaN_199201.nc'"
     },
     "execution_count": 32,
     "metadata": {},
     "output_type": "execute_result"
    }
   ],
   "source": [
    "variable_list = list(variable_metadata.keys())\n",
    "for variable in variable_list:\n",
    "    variable_files = os.listdir(os.path.join(data_path, variable))\n",
    "    for i in range(len(os.listdir(variable_folder))):\n",
    "        file = os.listdir(os.path.join(data_path, file_type))[i]\n",
    "# file_path = os.path.join(data_path, file_type, file)\n",
    "# file_path"
   ],
   "metadata": {
    "collapsed": false,
    "ExecuteTime": {
     "end_time": "2025-02-24T21:55:11.087269Z",
     "start_time": "2025-02-24T21:55:11.057844Z"
    }
   },
   "id": "fcbe3b3ab9dec2e9"
  },
  {
   "cell_type": "code",
   "execution_count": 12,
   "outputs": [],
   "source": [
    "from matplotlib.gridspec import GridSpec\n",
    "\n",
    "for day in range(31):\n",
    "    fig = plt.figure(figsize=(15, 12))\n",
    "    gs = GridSpec(2, 3, wspace=0.8, hspace=0.1,\n",
    "                  left=0.11, right=0.9, top=0.95, bottom=0.05\n",
    "                  )\n",
    "    variable_list = list(variable_metadata.keys())\n",
    "    for i in range(len(variable_metadata)):\n",
    "        file_type = variable_list[i]\n",
    "        file = os.listdir(os.path.join(data_path, file_type))[0]\n",
    "        file_path = os.path.join(data_path, file_type, file)\n",
    "        ds = nc4.Dataset(file_path)\n",
    "\n",
    "        grid = ds.variables[file_type][:, :, :]\n",
    "        plot_grid = np.ma.masked_where(grid == 0.0, grid)\n",
    "\n",
    "        ax1 = fig.add_subplot(gs[i])\n",
    "        C = plt.pcolormesh(plot_grid[day, :, :],\n",
    "                           vmin=variable_metadata[file_type]['vmin'],\n",
    "                           vmax=variable_metadata[file_type]['vmax'],\n",
    "                           cmap=variable_metadata[file_type]['cmap'])\n",
    "\n",
    "        plt.colorbar(C, label=file_type, fraction=0.026)\n",
    "    plt.savefig(os.path.join('/Users/eddie/IcebergModeling', 'Output', 'Plots', f'{day}.png'))\n",
    "    plt.close(fig)\n"
   ],
   "metadata": {
    "collapsed": false,
    "ExecuteTime": {
     "end_time": "2025-02-24T21:50:01.454631Z",
     "start_time": "2025-02-24T21:49:57.487879Z"
    }
   },
   "id": "6213ea83f5a92ed3"
  },
  {
   "cell_type": "markdown",
   "source": [
    "## Circulation Result"
   ],
   "metadata": {
    "collapsed": false
   },
   "id": "7e0a0f7694185610"
  },
  {
   "cell_type": "markdown",
   "source": [
    "Firstly, we will plot and create 2 movies to compare the velocity on the surface level for both 2015 and 2017."
   ],
   "metadata": {
    "collapsed": false
   },
   "id": "d038c7d1c1e098a1"
  },
  {
   "cell_type": "code",
   "execution_count": 43,
   "outputs": [
    {
     "name": "stdout",
     "output_type": "stream",
     "text": [
      "Moviepy - Building video /Users/eddie/IcebergModeling/Output/Plots.mp4.\n",
      "Moviepy - Writing video /Users/eddie/IcebergModeling/Output/Plots.mp4\n"
     ]
    },
    {
     "name": "stderr",
     "output_type": "stream",
     "text": [
      "                                                            \r"
     ]
    },
    {
     "name": "stdout",
     "output_type": "stream",
     "text": [
      "Moviepy - Done !\n",
      "Moviepy - video ready /Users/eddie/IcebergModeling/Output/Plots.mp4\n"
     ]
    }
   ],
   "source": [
    "create_movie('/Users/eddie/IcebergModeling/Output/Plots', 2)"
   ],
   "metadata": {
    "collapsed": false,
    "ExecuteTime": {
     "end_time": "2025-02-20T17:56:55.207325Z",
     "start_time": "2025-02-20T17:56:52.004503Z"
    }
   },
   "id": "fada3b4259f4617a"
  }
 ],
 "metadata": {
  "kernelspec": {
   "name": "cs185c",
   "language": "python",
   "display_name": "CS 185C Environment"
  },
  "language_info": {
   "codemirror_mode": {
    "name": "ipython",
    "version": 2
   },
   "file_extension": ".py",
   "mimetype": "text/x-python",
   "name": "python",
   "nbconvert_exporter": "python",
   "pygments_lexer": "ipython2",
   "version": "2.7.6"
  }
 },
 "nbformat": 4,
 "nbformat_minor": 5
}
